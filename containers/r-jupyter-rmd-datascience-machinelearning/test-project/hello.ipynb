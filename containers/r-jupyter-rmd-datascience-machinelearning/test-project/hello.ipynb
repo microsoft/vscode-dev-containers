{
 "cells": [
  {
   "cell_type": "markdown",
   "metadata": {},
   "source": [
    "### This is a Jupyter Notebook. Depending on the `kernel` chosen, you can run R or Python code within the code chunks."
   ]
  },
  {
   "cell_type": "markdown",
   "metadata": {},
   "source": [
    "#### R code chunk"
   ]
  },
  {
   "cell_type": "code",
   "execution_count": null,
   "metadata": {},
   "outputs": [],
   "source": [
    "# R Function that returns an awesome message\n",
    "say_hello <- function(name) {\n",
    "  message(paste0(\"Hello, \", name, \"!\"))\n",
    "}\n",
    "\n",
    "# Call the function\n",
    "say_hello(\"remote world\")"
   ]
  },
  {
   "cell_type": "markdown",
   "metadata": {},
   "source": [
    "#### Python code chunk"
   ]
  },
  {
   "cell_type": "code",
   "execution_count": null,
   "metadata": {},
   "outputs": [],
   "source": [
    "# Python Function that returns an awesome message\n",
    "def python_say_hello(name):\n",
    "    print(\"Hello\", name, \"!\")\n",
    "\n",
    "# Call the function\n",
    "python_say_hello(\"remote world\")"
   ]
  }
 ],
 "metadata": {
  "interpreter": {
   "hash": "916dbcbb3f70747c44a77c7bcd40155683ae19c65e1c03b4aa3499c5328201f1"
  },
  "kernelspec": {
   "display_name": "R",
   "language": "R",
   "name": "ir"
  },
  "language_info": {
   "codemirror_mode": "r",
   "file_extension": ".r",
   "mimetype": "text/x-r-source",
   "name": "R",
   "pygments_lexer": "r",
   "version": "4.1.2"
  },
  "orig_nbformat": 4
 },
 "nbformat": 4,
 "nbformat_minor": 2
}
